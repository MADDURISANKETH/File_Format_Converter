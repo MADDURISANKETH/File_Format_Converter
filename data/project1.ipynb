{
 "cells": [
  {
   "cell_type": "code",
   "execution_count": null,
   "metadata": {},
   "outputs": [],
   "source": [
    "import glob"
   ]
  },
  {
   "cell_type": "code",
   "execution_count": null,
   "metadata": {},
   "outputs": [],
   "source": [
    "help(glob)"
   ]
  },
  {
   "cell_type": "code",
   "execution_count": null,
   "metadata": {},
   "outputs": [],
   "source": [
    "glob.glob(\"/Users/sankethmadduri/Desktop/DE/data/file_format_converter/data/retail_db/**\", recursive=True)"
   ]
  },
  {
   "cell_type": "code",
   "execution_count": 46,
   "metadata": {},
   "outputs": [
    {
     "data": {
      "text/plain": [
       "['/Users/sankethmadduri/Desktop/DE/data/file_format_converter/data/retail_db/customers/part-00000',\n",
       " '/Users/sankethmadduri/Desktop/DE/data/file_format_converter/data/retail_db/products/part-00000',\n",
       " '/Users/sankethmadduri/Desktop/DE/data/file_format_converter/data/retail_db/departments/part-00000',\n",
       " '/Users/sankethmadduri/Desktop/DE/data/file_format_converter/data/retail_db/order_items/part-00000',\n",
       " '/Users/sankethmadduri/Desktop/DE/data/file_format_converter/data/retail_db/orders/part-00000',\n",
       " '/Users/sankethmadduri/Desktop/DE/data/file_format_converter/data/retail_db/categories/part-00000']"
      ]
     },
     "execution_count": 46,
     "metadata": {},
     "output_type": "execute_result"
    }
   ],
   "source": [
    "glob.glob(\"/Users/sankethmadduri/Desktop/DE/data/file_format_converter/data/retail_db/*/*\", recursive=True)"
   ]
  },
  {
   "cell_type": "code",
   "execution_count": null,
   "metadata": {},
   "outputs": [],
   "source": [
    "scr_file_names = glob.glob(\"/Users/sankethmadduri/Desktop/DE/data/file_format_converter/data/retail_db/*/part-*\", recursive=True)"
   ]
  },
  {
   "cell_type": "code",
   "execution_count": 47,
   "metadata": {},
   "outputs": [
    {
     "data": {
      "text/plain": [
       "['/Users/sankethmadduri/Desktop/DE/data/file_format_converter/data/retail_db/customers/part-00000',\n",
       " '/Users/sankethmadduri/Desktop/DE/data/file_format_converter/data/retail_db/products/part-00000',\n",
       " '/Users/sankethmadduri/Desktop/DE/data/file_format_converter/data/retail_db/departments/part-00000',\n",
       " '/Users/sankethmadduri/Desktop/DE/data/file_format_converter/data/retail_db/order_items/part-00000',\n",
       " '/Users/sankethmadduri/Desktop/DE/data/file_format_converter/data/retail_db/orders/part-00000',\n",
       " '/Users/sankethmadduri/Desktop/DE/data/file_format_converter/data/retail_db/categories/part-00000']"
      ]
     },
     "execution_count": 47,
     "metadata": {},
     "output_type": "execute_result"
    }
   ],
   "source": [
    "scr_file_names"
   ]
  },
  {
   "cell_type": "code",
   "execution_count": null,
   "metadata": {},
   "outputs": [],
   "source": [
    "import pandas as pd"
   ]
  },
  {
   "cell_type": "code",
   "execution_count": null,
   "metadata": {},
   "outputs": [],
   "source": [
    "for filename in scr_file_names:\n",
    "    df=pd.read_csv(filename)\n",
    "    print(f'shape of {filename} is {df.shape}')\n",
    "    "
   ]
  },
  {
   "cell_type": "code",
   "execution_count": null,
   "metadata": {},
   "outputs": [],
   "source": [
    "import json"
   ]
  },
  {
   "cell_type": "code",
   "execution_count": null,
   "metadata": {},
   "outputs": [],
   "source": [
    "#function to return the column names from schema.json\n",
    "def get_column_names(schemas, ds_name, sorting_key=\"column_position\"):\n",
    "    column_details=schemas[ds_name]\n",
    "    columns = sorted(column_details, key=lambda col : col [sorting_key])\n",
    "   # print(columns)\n",
    "    return [col['column_name'] for col in columns]"
   ]
  },
  {
   "cell_type": "code",
   "execution_count": null,
   "metadata": {},
   "outputs": [],
   "source": [
    "schemas = json.load(open('/Users/sankethmadduri/Desktop/DE/data/file_format_converter/data/retail_db/schemas.json'))"
   ]
  },
  {
   "cell_type": "code",
   "execution_count": null,
   "metadata": {},
   "outputs": [],
   "source": [
    "order_columns=get_column_names(schemas, 'orders')"
   ]
  },
  {
   "cell_type": "code",
   "execution_count": null,
   "metadata": {},
   "outputs": [],
   "source": [
    "order_columns"
   ]
  },
  {
   "cell_type": "code",
   "execution_count": null,
   "metadata": {},
   "outputs": [],
   "source": [
    "import pandas as pd"
   ]
  },
  {
   "cell_type": "code",
   "execution_count": null,
   "metadata": {},
   "outputs": [],
   "source": [
    "orders= pd.read_csv(\"/Users/sankethmadduri/Desktop/DE/data/file_format_converter/data/retail_db/orders/part-00000\", names=order_columns)"
   ]
  },
  {
   "cell_type": "code",
   "execution_count": null,
   "metadata": {},
   "outputs": [],
   "source": [
    "orders"
   ]
  },
  {
   "cell_type": "code",
   "execution_count": null,
   "metadata": {},
   "outputs": [],
   "source": [
    "import glob"
   ]
  },
  {
   "cell_type": "code",
   "execution_count": null,
   "metadata": {},
   "outputs": [],
   "source": [
    "scr_file_names = glob.glob(\"/Users/sankethmadduri/Desktop/DE/data/file_format_converter/data/retail_db/*/part-*\", recursive=True)"
   ]
  },
  {
   "cell_type": "code",
   "execution_count": null,
   "metadata": {},
   "outputs": [],
   "source": [
    "tgt_base_dir = '/Users/sankethmadduri/Desktop/DE/data/file_format_converter/data/retail_json'"
   ]
  },
  {
   "cell_type": "code",
   "execution_count": null,
   "metadata": {},
   "outputs": [],
   "source": [
    "scr_file_names"
   ]
  },
  {
   "cell_type": "code",
   "execution_count": null,
   "metadata": {},
   "outputs": [],
   "source": [
    "for file in scr_file_names:\n",
    "    print(file.split('/'))\n",
    "    ds_name=file.split('/')[-2]\n",
    "    print(ds_name)\n",
    "    columns=get_column_names(schemas,ds_name)\n",
    "    df=pd.read_csv(file,names=columns)\n",
    "    print(f'shape of {ds_name} is {df.shape}')"
   ]
  },
  {
   "cell_type": "code",
   "execution_count": null,
   "metadata": {},
   "outputs": [],
   "source": [
    "for file in scr_file_names:\n",
    "    ds_name=file.split('/')[-2] \n",
    "    file_name=file.split('/')[-1]\n",
    "    #print(ds_name)\n",
    "    #print(file_name)\n",
    "    json_file_path=f'{tgt_base_dir}/{ds_name}/{file_name}'\n",
    "    print(json_file_path)"
   ]
  },
  {
   "cell_type": "code",
   "execution_count": 41,
   "metadata": {},
   "outputs": [],
   "source": [
    "import os"
   ]
  },
  {
   "cell_type": "code",
   "execution_count": 43,
   "metadata": {},
   "outputs": [],
   "source": [
    "os.makedirs(\"/Users/sankethmadduri/Desktop/DE/data/file_format_converter/data/retail_json\", exist_ok=True)"
   ]
  },
  {
   "cell_type": "code",
   "execution_count": 45,
   "metadata": {},
   "outputs": [],
   "source": [
    "#loop to write all paths into retail_db_json\n",
    "tgt_base_dir = '/Users/sankethmadduri/Desktop/DE/data/file_format_converter/data/retail_json'\n",
    "for file in scr_file_names:\n",
    "    #print(file.split('/'))\n",
    "    ds_name=file.split('/')[-2]\n",
    "    #print(ds_name)\n",
    "    file_name=file.split('/')[-1]\n",
    "    #print(file_name)\n",
    "    json_file_path=f'{tgt_base_dir}/{ds_name}/{file_name}'\n",
    "    columns=get_column_names(schemas,ds_name)\n",
    "    df=pd.read_csv(file,names=columns)\n",
    "    #print(f'shape of {ds_name} is {df.shape}')\n",
    "    os.makedirs(f'{tgt_base_dir}/{ds_name}',exist_ok=True)\n",
    "    df.to_json(json_file_path,orient='records',lines=True)\n",
    "    \n"
   ]
  }
 ],
 "metadata": {
  "kernelspec": {
   "display_name": "Python 3",
   "language": "python",
   "name": "python3"
  },
  "language_info": {
   "codemirror_mode": {
    "name": "ipython",
    "version": 3
   },
   "file_extension": ".py",
   "mimetype": "text/x-python",
   "name": "python",
   "nbconvert_exporter": "python",
   "pygments_lexer": "ipython3",
   "version": "3.12.2"
  }
 },
 "nbformat": 4,
 "nbformat_minor": 2
}
